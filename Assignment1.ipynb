{
 "cells": [
  {
   "cell_type": "markdown",
   "id": "1979a2b9",
   "metadata": {},
   "source": [
    "###### 1. In the below elements which of them are values or an expression? eg:- values can be integer or string and expressions will be mathematical operators."
   ]
  },
  {
   "cell_type": "markdown",
   "id": "faa78736",
   "metadata": {},
   "source": [
    " *\n",
    "\n",
    "'hello'\n",
    "\n",
    "-87.8\n",
    "\n",
    "- \n",
    "/ \n",
    "\n",
    "+\t\n",
    "\n",
    "6 \n",
    "\n",
    "###### sol:\n",
    "values are 'hello', -87.8 and 6\n",
    "expressions are *,-,/,+"
   ]
  },
  {
   "cell_type": "markdown",
   "id": "d00f14f5",
   "metadata": {},
   "source": [
    "###### 2. What is the difference between string and variable?"
   ]
  },
  {
   "cell_type": "markdown",
   "id": "4ea342ce",
   "metadata": {},
   "source": [
    "###### sol : \n",
    "      String is a type of information\n",
    "      variable is storing of information\n",
    "      \n",
    "      ex: x = \"hello\"\n",
    "      here x is variable \"hello\" is string"
   ]
  },
  {
   "cell_type": "markdown",
   "id": "33a949b6",
   "metadata": {},
   "source": [
    "###### 3. Describe three different data types."
   ]
  },
  {
   "cell_type": "markdown",
   "id": "40790ab3",
   "metadata": {},
   "source": [
    "###### sol : \n",
    "1.Numeric – Numeric data types in Python represent data with a numeric value. Integers, floating numbers, and even complex numbers can be used as numerical values. In Python, these values are represented by the int, float, and complex classes.\n",
    "\n",
    "example :\n",
    "a = 10 , b= 20.4 , c = i + 10j\n"
   ]
  },
  {
   "cell_type": "code",
   "execution_count": 13,
   "id": "2ea775a9",
   "metadata": {},
   "outputs": [
    {
     "name": "stdout",
     "output_type": "stream",
     "text": [
      "<class 'int'>\n",
      "<class 'float'>\n",
      "<class 'complex'>\n"
     ]
    }
   ],
   "source": [
    "a = 10\n",
    "b= 20.4\n",
    "c = 1 + 10j\n",
    "print(type(a))\n",
    "print(type(b))\n",
    "print(type(c))"
   ]
  },
  {
   "cell_type": "markdown",
   "id": "3a60f651",
   "metadata": {},
   "source": [
    "2. Dictionary – In Python, a dictionary is an unordered collection of data values that may be used to store data values. Unlike other Data Types that only carry a single value as an element, Dictionary holds a key:value pair. The dictionary includes a key-value pair to make it more efficient. A colon : separates each key-value pair in a Dictionary, whereas each key is separated by a comma.\n",
    "\n",
    "\n",
    "example: d = {name:'harshini', branch: 'CSE'}"
   ]
  },
  {
   "cell_type": "code",
   "execution_count": 14,
   "id": "2fe733b9",
   "metadata": {},
   "outputs": [
    {
     "data": {
      "text/plain": [
       "dict"
      ]
     },
     "execution_count": 14,
     "metadata": {},
     "output_type": "execute_result"
    }
   ],
   "source": [
    "d = {'name':'harshini', 'branch': 'CSE'}\n",
    "type(d)"
   ]
  },
  {
   "cell_type": "markdown",
   "id": "defa5f14",
   "metadata": {},
   "source": [
    "3.  List - Lists are just like the arrays, declared in other languages which is a ordered collection of data. It is very flexible as the items in a list do not need to be of the same type.\n",
    "\n",
    "example: l = [5,8,\"Python\"]"
   ]
  },
  {
   "cell_type": "code",
   "execution_count": 16,
   "id": "8c6d3e62",
   "metadata": {},
   "outputs": [
    {
     "data": {
      "text/plain": [
       "list"
      ]
     },
     "execution_count": 16,
     "metadata": {},
     "output_type": "execute_result"
    }
   ],
   "source": [
    "l = [5,8,\"Python\"]\n",
    "type(l)"
   ]
  },
  {
   "cell_type": "markdown",
   "id": "d74d594e",
   "metadata": {},
   "source": [
    "###### 4. What is an expression made up of? What do all expressions do?\n",
    "\n",
    "###### sol:\n",
    "An expression is any sequence of literals (strings, numbers, lists, sets, tuples), objects, function calls, identifiers combined with a variety of operators which results in a value - regardless of whether of the resulting value is an object, or a number, or even a None. So examples of expressions are :\n",
    "\n",
    "‘Hello World’ - this is a string literal\n",
    "23.6 - this is a floating point literal\n",
    "{1,2,3,4} - a set literal\n",
    "my_func(1,2,3) - a function call (even if the function returns None)\n",
    "2 + the_number * math.factorial(7) - a combination of literals, operators, identifiers and function calls"
   ]
  },
  {
   "cell_type": "markdown",
   "id": "d6ff4099",
   "metadata": {},
   "source": [
    "###### 5. This assignment statements, like spam = 10. What is the difference between an expression and a statement?\n",
    "\n",
    "###### sol:\n",
    "An Expression always evaluates to a value. And, A statement does something, like creating a variable or displaying a value, it only does whatever the statement says.\n"
   ]
  },
  {
   "cell_type": "markdown",
   "id": "611a77a3",
   "metadata": {},
   "source": [
    "###### 6. After running the following code, what does the variable bacon contain?\n",
    "\n",
    "bacon = 22\n",
    "\n",
    "bacon + 1\n",
    "\n",
    "###### sol:\n",
    "variable bacon contains 22 only"
   ]
  },
  {
   "cell_type": "markdown",
   "id": "49f85740",
   "metadata": {},
   "source": [
    "###### 7. What should the values of the following two terms be?\n",
    "\n",
    "\n",
    "'spam' + 'spamspam'\n",
    "\n",
    "'spam' * 3\n",
    "\n",
    "###### sol: \n",
    "The value of two terms is as follow\n",
    "\n",
    "'spamspamspam'\n",
    "\n",
    "where is gives same output for two terms"
   ]
  },
  {
   "cell_type": "markdown",
   "id": "3985d357",
   "metadata": {},
   "source": [
    "\n",
    "###### 8. Why is eggs a valid variable name while 100 is invalid?\n",
    "\n",
    "###### sol: \n",
    "Because variable names cannot begin with a number."
   ]
  },
  {
   "cell_type": "markdown",
   "id": "0d0c326e",
   "metadata": {},
   "source": [
    "###### 9. What three functions can be used to get the integer, floating-point number, or string version of a value?\n",
    "\n",
    "###### sol:\n",
    "int()\n",
    "\n",
    "float()\n",
    "\n",
    "str()\n"
   ]
  },
  {
   "cell_type": "markdown",
   "id": "dfe40d14",
   "metadata": {},
   "source": [
    "###### 10. Why does this expression cause an error? How can you fix it?\n",
    "\n",
    "'I have eaten ' + 99 + ' burritos.'\n",
    "\n",
    "###### sol:\n",
    "It causes an error because in this line 'I have eaten' and 'burritos' are strings, while 99 is treated as integer. In order to fix the error and print 'I have eaten 99 burritos.', 99 needs '' around it to treat it as a string."
   ]
  }
 ],
 "metadata": {
  "kernelspec": {
   "display_name": "Python 3",
   "language": "python",
   "name": "python3"
  },
  "language_info": {
   "codemirror_mode": {
    "name": "ipython",
    "version": 3
   },
   "file_extension": ".py",
   "mimetype": "text/x-python",
   "name": "python",
   "nbconvert_exporter": "python",
   "pygments_lexer": "ipython3",
   "version": "3.8.8"
  }
 },
 "nbformat": 4,
 "nbformat_minor": 5
}
