{
 "cells": [
  {
   "cell_type": "markdown",
   "id": "77e33f55",
   "metadata": {},
   "source": [
    "###### 1.What are the two values of the Boolean data type? How do you write them?"
   ]
  },
  {
   "cell_type": "markdown",
   "id": "637ddd5c",
   "metadata": {},
   "source": [
    "###### sol:\n",
    "The two values of Boolean data type is True and False, using capital T and F, with the rest of the word in lowercase like 'True' and 'False'"
   ]
  },
  {
   "cell_type": "markdown",
   "id": "e85907f4",
   "metadata": {},
   "source": [
    "###### 2. What are the three different types of Boolean operators?\n",
    "###### sol:\n",
    "Boolean operators are as follow:\n",
    "and, or, and not"
   ]
  },
  {
   "cell_type": "markdown",
   "id": "4d35a4e3",
   "metadata": {},
   "source": [
    "###### 3. Make a list of each Boolean operator's truth tables (i.e. every possible combination of Boolean values for the operator and what it evaluate ).\n",
    "###### sol:\n",
    "True and True  = True.\n",
    "\n",
    "True and False = False.\n",
    "\n",
    "False and True = False.\n",
    "\n",
    "False and False = False.\n",
    "\n",
    "True or True = True.\n",
    "\n",
    "True or False = True.\n",
    "\n",
    "False or True = True.\n",
    "\n",
    "False or False = False.\n",
    "\n",
    "not True = False.\n",
    "\n",
    "not False = True."
   ]
  },
  {
   "cell_type": "markdown",
   "id": "cda48af6",
   "metadata": {},
   "source": [
    "###### 4. What are the values of the following expressions?\n",
    "\n",
    "(5 > 4) and (3 == 5)\n",
    "\n",
    "not (5 > 4)\n",
    "\n",
    "(5 > 4) or (3 == 5)\n",
    "\n",
    "not ((5 > 4) or (3 == 5))\n",
    "\n",
    "(True and True) and (True == False)\n",
    "\n",
    "(not False) or (not True)\n",
    "###### sol:\n",
    "(5 > 4) and (3 == 5) => True and False==> False\n",
    "\n",
    "not (5 > 4) =>not True ==> False\n",
    "\n",
    "(5 > 4) or (3 == 5) => True or False ==>True\n",
    "\n",
    "not ((5 > 4) or (3 == 5)) => not (True or False) => not True ==> False\n",
    "\n",
    "(True and True) and (True == False) => True and False ==> False\n",
    "\n",
    "(not False) or (not True) => True or False ==>True "
   ]
  },
  {
   "cell_type": "markdown",
   "id": "ce811ca1",
   "metadata": {},
   "source": [
    "###### 5. What are the six comparison operators?\n",
    "###### sol: \n",
    "==, !=, <, >, <=, and >="
   ]
  },
  {
   "cell_type": "markdown",
   "id": "9c93b2b6",
   "metadata": {},
   "source": [
    "###### 6. How do you tell the difference between the equal to and assignment operators?Describe a condition and when you would use one.\n",
    "###### sol:\n",
    "== is the equal to operator that compares two values and evaluates to a Boolean, while = is the assignment operator that stores a value in a variable.\n",
    "A condition is an expression used in a flow control statement that evaluates to a Boolean value."
   ]
  },
  {
   "cell_type": "markdown",
   "id": "74e1d31e",
   "metadata": {},
   "source": [
    "###### 7. Identify the three blocks in this code:\n",
    "\n",
    "spam = 0\n",
    "\n",
    "if spam == 10:\n",
    "\n",
    "print('eggs')\n",
    "\n",
    "if spam > 5:\n",
    "\n",
    "print('bacon')\n",
    "\n",
    "else:\n",
    "\n",
    "print('ham')\n",
    "\n",
    "print('spam')\n",
    "\n",
    "print('spam')\n",
    "###### sol:\n",
    "The three blocks are everything inside the if statement and the lines print(eggs), print('bacon') and print('ham').\n",
    "\n",
    "if spam == 10:\n",
    "print('eggs')\n",
    "\n",
    "if spam > 5:\n",
    "print('bacon')\n",
    "\n",
    "else:\n",
    "print('ham')\n"
   ]
  },
  {
   "cell_type": "markdown",
   "id": "dcd37797",
   "metadata": {},
   "source": [
    "###### 8. Write code that prints Hello if 1 is stored in spam, prints Howdy if 2 is stored in spam, and prints Greetings! if anything else is stored in spam.\n",
    "spam = 1\n",
    "\n",
    "if spam == 1:\n",
    "\n",
    "print('Hello')\n",
    "\n",
    "if spam == 2:\n",
    "\n",
    "print('Howdy')\n",
    "\n",
    "else:\n",
    "\n",
    "print(\"Greetings!\")\n",
    "\n",
    "\n",
    "o/p : Hello"
   ]
  },
  {
   "cell_type": "markdown",
   "id": "54d0442d",
   "metadata": {},
   "source": [
    "\n",
    "###### 9.If your programme is stuck in an endless loop, what keys you’ll press?\n",
    "###### Sol:\n",
    " Ctrl + C"
   ]
  },
  {
   "cell_type": "markdown",
   "id": "1a53fe13",
   "metadata": {},
   "source": [
    "###### 10. How can you tell the difference between break and continue?\n",
    "###### sol:\n",
    "The main difference between break and continue is that break is used for immediate termination of loop and 'continue' terminate the current iteration and resumes the control to the next iteration of the loop."
   ]
  },
  {
   "cell_type": "markdown",
   "id": "cd0269ad",
   "metadata": {},
   "source": [
    "###### 11. In a for loop, what is the difference between range(10), range(0, 10), and range(0, 10, 1)?\n",
    "###### sol:\n",
    "range function in python accepts 3 parameters start, stop, and step. start and step is optional \n",
    "start: integer starting from which the sequence of integers is to be returned, if not given this then it will start from 0 by default\n",
    "\n",
    "stop: integer before which the sequence of integers is to be returned. The range of integers end at stop – 1.\n",
    "\n",
    "step: integer value which determines the increment between each integer in the sequence\n",
    "\n",
    "range(10) => [0,1,2,3,4,5,6,7,8,9]\n",
    "\n",
    "range(0,10) => [0,1,2,3,4,5,6,7,8,9]\n",
    "\n",
    "range(0,10,1) => [0,1,2,3,4,5,6,7,8,9]"
   ]
  },
  {
   "cell_type": "markdown",
   "id": "5ac6899e",
   "metadata": {},
   "source": [
    "###### 12. Write a short program that prints the numbers 1 to 10 using a for loop. Then write an equivalent program that prints the numbers 1 to 10 using a while loop.\n",
    "###### sol:"
   ]
  },
  {
   "cell_type": "code",
   "execution_count": 1,
   "id": "27c0f958",
   "metadata": {},
   "outputs": [
    {
     "name": "stdout",
     "output_type": "stream",
     "text": [
      "program using for loop\n",
      "1\n",
      "2\n",
      "3\n",
      "4\n",
      "5\n",
      "6\n",
      "7\n",
      "8\n",
      "9\n",
      "10\n",
      "program using while loop\n",
      "1\n",
      "2\n",
      "3\n",
      "4\n",
      "5\n",
      "6\n",
      "7\n",
      "8\n",
      "9\n",
      "10\n"
     ]
    }
   ],
   "source": [
    "print(\"program using for loop\")\n",
    "\n",
    "for i in range(1, 11):\n",
    "    print(i)\n",
    "print(\"program using while loop\")\n",
    "i = 1\n",
    "while(i<11):\n",
    "    print(i)\n",
    "    i += 1\n",
    "    "
   ]
  },
  {
   "cell_type": "markdown",
   "id": "bba4260f",
   "metadata": {},
   "source": [
    "###### 13. If you had a function named bacon() inside a module named spam, how would you call it after importing spam?\n",
    "###### sol:\n",
    "import spam\n",
    "\n",
    "spam.bacon()"
   ]
  }
 ],
 "metadata": {
  "kernelspec": {
   "display_name": "Python 3",
   "language": "python",
   "name": "python3"
  },
  "language_info": {
   "codemirror_mode": {
    "name": "ipython",
    "version": 3
   },
   "file_extension": ".py",
   "mimetype": "text/x-python",
   "name": "python",
   "nbconvert_exporter": "python",
   "pygments_lexer": "ipython3",
   "version": "3.8.8"
  }
 },
 "nbformat": 4,
 "nbformat_minor": 5
}
